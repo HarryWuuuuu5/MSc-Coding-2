{
 "cells": [
  {
   "cell_type": "code",
   "execution_count": 1,
   "metadata": {},
   "outputs": [
    {
     "name": "stdout",
     "output_type": "stream",
     "text": [
      "-6\n",
      "we want to get a number bigger than -6 without changing the inputs ourselves\n"
     ]
    }
   ],
   "source": [
    "# This tutorial is based on Andrey Karparthy's NN tutorial.\n",
    "# https://karpathy.github.io/neuralnets/\n",
    "# He puts forward the idea that real values flow forward through simple systems\n",
    "# Whilst gradients flow backward through them\n",
    "# This is useful for understanding Back Propagation.\n",
    "# Let's take a look.\n",
    "\n",
    "def forwardMultiplyGate(x, y):\n",
    "    return x * y\n",
    "\n",
    "print (forwardMultiplyGate(-2, 3)); # returns -6. Exciting.\n",
    "\n",
    "print (\"we want to get a number bigger than -6 without changing the inputs ourselves\")"
   ]
  },
  {
   "cell_type": "code",
   "execution_count": 2,
   "metadata": {},
   "outputs": [
    {
     "name": "stdout",
     "output_type": "stream",
     "text": [
      "-5.965773202730492\n",
      "-5.9587171390047695\n",
      "-5.954707429873119\n",
      "This works, but is not very efficient.\n"
     ]
    }
   ],
   "source": [
    "# Random Local Search\n",
    "# -----------------\n",
    "# In Neural Nets, we tweak the input values\n",
    "# until we get closer to the result we are looking for\n",
    "# We can use a random local search to do this\n",
    "# we could do this randomly by changing x,y randomly small amounts and keep track of what works best\n",
    "\n",
    "# but it's a rubbish idea.\n",
    "\n",
    "import math\n",
    "import random\n",
    "\n",
    "x = -2\n",
    "y = 3;\n",
    "\n",
    "def forwardMultiplyGate(x, y):\n",
    "    return x * y\n",
    "\n",
    "tweak_amount = 0.01 # this is a bit like the learning rate\n",
    "best_out = -10000000\n",
    "best_x = x\n",
    "best_y = y\n",
    "\n",
    "for k in range(100): # 100 is the number of steps\n",
    "    x_try = x + tweak_amount * (random.random() * 2 - 1) # tweak x a bit\n",
    "    y_try = y + tweak_amount * (random.random() * 2 - 1) # tweak y a bit\n",
    "    out = forwardMultiplyGate(x_try, y_try)\n",
    "    if out > best_out:\n",
    "        # best improvement yet! Keep track of the x and y\n",
    "        best_out = out\n",
    "        best_x = x_try\n",
    "        best_y = y_try\n",
    "        print (best_out)\n",
    "        \n",
    "print (\"This works, but is not very efficient.\")"
   ]
  },
  {
   "cell_type": "code",
   "execution_count": 3,
   "metadata": {},
   "outputs": [
    {
     "name": "stdout",
     "output_type": "stream",
     "text": [
      "x_derivative = 3.00000000000189\n",
      "y_derivative = -2.0000000000042206\n",
      "The Gradient is [3.00000000000189, -2.0000000000042206]\n",
      "The New Output is -5.87059999999986\n"
     ]
    }
   ],
   "source": [
    "# Numerical Gradient\n",
    "# ------------------\n",
    "# \"The derivative can be thought of as a force on each input\n",
    "# as we pull on the output to become higher.\"\n",
    "# ------------------\n",
    "\n",
    "# Instead of doing a random search,\n",
    "# we're going to increase the inputs very slightly\n",
    "# and check what happens to the output to see if it's what we expect\n",
    "# The amount of change in the output is the DERIVATIVE \n",
    "\n",
    "# Below, we add h - the tweak amount to x and y, \n",
    "# Then we check check the difference between the output\n",
    "# And the first output - this difference is the derivative.\n",
    "\n",
    "def forwardMultiplyGate(x, y):\n",
    "    return x * y\n",
    "\n",
    "x = -2\n",
    "y = 3\n",
    "out = forwardMultiplyGate(x, y) # -6\n",
    "h = 0.0001; # This is the tweak amount. Some say it should be\n",
    "# as small as possible but this is small enough\n",
    "\n",
    "# compute derivative with respect to x\n",
    "xph = x + h # -1.9999\n",
    "out2 = forwardMultiplyGate(xph, y) # -5.9997\n",
    "x_derivative = (out2 - out) / h; # 3.0 - we divide by h to normalise\n",
    "\n",
    "# compute derivative with respect to y\n",
    "yph = y + h # 3.0001\n",
    "out3 = forwardMultiplyGate(x, yph) # -6.0002\n",
    "y_derivative = (out3 - out) / h # -2.0 - we divide by h to normalise\n",
    "\n",
    "print (\"x_derivative =\", x_derivative)\n",
    "print (\"y_derivative =\", y_derivative)\n",
    "\n",
    "# When we talk about all the inputs together with respect to output, \n",
    "# We're actually talking about the GRADIENT\n",
    "# not the indiviual derivatives\n",
    "\n",
    "gradient = [x_derivative,y_derivative]\n",
    "\n",
    "print (\"The Gradient is\", gradient)\n",
    "\n",
    "# move towards the gradient by scaling it a little\n",
    "# then moving towards it a bit\n",
    "# this is the same as chasing an object\n",
    "\n",
    "step_size = 0.01; # If this was big, it would work, \n",
    "# BUT it might not work with more complex networks\n",
    "x = x + (step_size * x_derivative); # x becomes -1.97\n",
    "y = y + (step_size * y_derivative); # y becomes 2.98\n",
    "out_new = forwardMultiplyGate(x, y) # -5.87.\n",
    "print (\"The New Output is\", out_new)\n",
    "\n",
    "# The gradient is the direction of the steepest increase\n",
    "# This means it's taking the inputs where they need to go\n",
    "# To get the output closer to what we want\n",
    "# This is exactly how we move towards objects in space"
   ]
  },
  {
   "cell_type": "code",
   "execution_count": 4,
   "metadata": {},
   "outputs": [
    {
     "name": "stdout",
     "output_type": "stream",
     "text": [
      "New Output = -5.8706\n"
     ]
    }
   ],
   "source": [
    "# ANALYTIC GRADIENT\n",
    "# -------------------\n",
    "\n",
    "# The numerical gradient is actually rubbish\n",
    "# If we have lots of inputs\n",
    "# it is dumb to calculate the gradient\n",
    "# by evaluating all the inputs separately all the time\n",
    "\n",
    "# Instead we're going to use the \"analytic gradient\"\n",
    "# The trick here is that derivative of X actually turned out to be Y\n",
    "# So why bother to calculate it at all?\n",
    "# Just use Y, and the whole thing gets much simpler to compute\n",
    "# As long as we can calculate a base case first, we can use it\n",
    "# Without having to do so over and over again.\n",
    "\n",
    "x = -2\n",
    "y = 3\n",
    "out = forwardMultiplyGate(x, y)\n",
    "x_gradient = y; # because it turns out the gradient of x is y.\n",
    "y_gradient = x; # vice versa\n",
    "\n",
    "step_size = 0.01;\n",
    "x += step_size * x_gradient\n",
    "y += step_size * y_gradient\n",
    "out_new = forwardMultiplyGate(x, y)\n",
    "\n",
    "print (\"New Output =\", out_new)\n",
    "# In practice NN systems compute the numerical gradient and the analytical gradient"
   ]
  },
  {
   "cell_type": "code",
   "execution_count": 5,
   "metadata": {},
   "outputs": [
    {
     "name": "stdout",
     "output_type": "stream",
     "text": [
      "-12\n"
     ]
    }
   ],
   "source": [
    "# In order to turn this simple system in to a complex one, \n",
    "# We just need lots of these together\n",
    "# But we also have to connect them up.\n",
    "# In order for this to work, we need to add something extra\n",
    "# We need to *add as well as *multiply\n",
    "\n",
    "# a and b are just local variables, not inputs to the neuron\n",
    "def forwardMultiplyGate(a, b):\n",
    "    return a * b\n",
    "\n",
    "def forwardAddGate(a, b):\n",
    "    return a + b\n",
    "\n",
    "def forwardCircuit(x,y,z):\n",
    "    q = forwardAddGate(x, y)\n",
    "    f = forwardMultiplyGate(q, z)\n",
    "    return f\n",
    "\n",
    "x = -2\n",
    "y = 5\n",
    "z = -4\n",
    "f = forwardCircuit(x, y, z); # output is -12\n",
    "\n",
    "# Now we add things together, and then multiply\n",
    "print (f)\n"
   ]
  },
  {
   "cell_type": "code",
   "execution_count": 6,
   "metadata": {},
   "outputs": [
    {
     "name": "stdout",
     "output_type": "stream",
     "text": [
      "-12\n",
      "-11.5924\n"
     ]
    }
   ],
   "source": [
    "# BUT - how do we calculate the gradient now?\n",
    "# EASY - we only do it for the inputs we are multiplying.\n",
    "# So everything else stays the same\n",
    "# It just allows us to chain Neurons together.\n",
    "# The derivative of the addition part is always 1\n",
    "\n",
    "# Let's set this up:\n",
    "# initial conditions\n",
    "\n",
    "def forwardMultiplyGate(a, b):\n",
    "    return a * b\n",
    "\n",
    "def forwardAddGate(a, b):\n",
    "    return a + b\n",
    "\n",
    "def forwardCircuit(x,y,z):\n",
    "    q = forwardAddGate(x, y)\n",
    "    f = forwardMultiplyGate(q, z)\n",
    "    return f\n",
    "\n",
    "x = -2\n",
    "y = 5\n",
    "z = -4\n",
    "q = forwardAddGate(x, y) # q is 3\n",
    "f = forwardMultiplyGate(q, z) # output is -12\n",
    "\n",
    "print (f)\n",
    "\n",
    "# gradient of the MULTIPLY gate with respect to its inputs\n",
    "# wrt is short for \"with respect to\"\n",
    "derivative_f_wrt_z = q # 3\n",
    "derivative_f_wrt_q = z # -4\n",
    "\n",
    "# derivative of the ADD gate with respect to its inputs\n",
    "derivative_q_wrt_x = 1.0\n",
    "derivative_q_wrt_y = 1.0\n",
    "\n",
    "# chain rule\n",
    "derivative_f_wrt_x = derivative_q_wrt_x * derivative_f_wrt_q # -4\n",
    "derivative_f_wrt_y = derivative_q_wrt_y * derivative_f_wrt_q # -4\n",
    "\n",
    "# final gradient, from above: [-4, -4, 3]\n",
    "gradient_f_wrt_xyz = [derivative_f_wrt_x, derivative_f_wrt_y, derivative_f_wrt_z]\n",
    "\n",
    "# let the inputs respond to the force/tug:\n",
    "step_size = 0.01\n",
    "x = x + step_size * derivative_f_wrt_x # -2.04\n",
    "y = y + step_size * derivative_f_wrt_y # 4.96\n",
    "z = z + step_size * derivative_f_wrt_z # -3.97\n",
    "\n",
    "# Our circuit now better give higher output:\n",
    "q = forwardAddGate(x, y) # q becomes 2.92\n",
    "f = forwardMultiplyGate(q, z) # output is -11.59, up from -12! Nice!\n",
    "\n",
    "print (f)"
   ]
  },
  {
   "cell_type": "code",
   "execution_count": 7,
   "metadata": {},
   "outputs": [
    {
     "name": "stdout",
     "output_type": "stream",
     "text": [
      "-3.9999999999906777 -3.9999999999906777 3.000000000010772\n"
     ]
    }
   ],
   "source": [
    "# let's check the derivatives with a numerical gradient check\n",
    "# initial conditions\n",
    "x = -2\n",
    "y = 5\n",
    "z = -4\n",
    "\n",
    "# numerical gradient check\n",
    "h = 0.0001;\n",
    "x_derivative = (forwardCircuit(x+h,y,z) - forwardCircuit(x,y,z)) / h # -4\n",
    "y_derivative = (forwardCircuit(x,y+h,z) - forwardCircuit(x,y,z)) / h # -4\n",
    "z_derivative = (forwardCircuit(x,y,z+h) - forwardCircuit(x,y,z)) / h # 3\n",
    "\n",
    "print (x_derivative,y_derivative,z_derivative)\n"
   ]
  },
  {
   "cell_type": "code",
   "execution_count": 9,
   "metadata": {},
   "outputs": [
    {
     "data": {
      "image/png": "[encoded data removed]",
      "text/plain": [
       "<Figure size 432x288 with 1 Axes>"
      ]
     },
     "metadata": {
      "needs_background": "light"
     },
     "output_type": "display_data"
    }
   ],
   "source": [
    "# INTERLUDE: \n",
    "# -----------\n",
    "# Sigmoid Function - f = 1.0 / (1.0 + math.exp(-x))\n",
    "# This function is often used as \n",
    "# an activation function in Neural Networks\n",
    "\n",
    "\n",
    "import numpy as np\n",
    "import matplotlib.pyplot as plt\n",
    "\n",
    "input_sig = np.arange(-10,10)\n",
    "output_sig = np.zeros((20))\n",
    "\n",
    "for val in input_sig:\n",
    "    output_sig[val+10] = 1.0 / (1 + math.exp(-val))\n",
    "\n",
    "\n",
    "plt.plot(output_sig)\n",
    "plt.plot(input_sig * 0.1) # scaling the input just so we can compare\n",
    "plt.show()\n"
   ]
  },
  {
   "cell_type": "code",
   "execution_count": 10,
   "metadata": {},
   "outputs": [
    {
     "name": "stdout",
     "output_type": "stream",
     "text": [
      "4\n",
      "5\n"
     ]
    }
   ],
   "source": [
    "# SVM with Stochastic Gradient Descent\n",
    "import math\n",
    "import random\n",
    "\n",
    "data = []\n",
    "labels = []\n",
    "data.append([1.2, 0.7])\n",
    "labels.append(1)\n",
    "data.append([-0.3, -0.5])\n",
    "labels.append(-1)\n",
    "data.append([3.0, 0.1])\n",
    "labels.append(1)\n",
    "data.append([-0.1, -1.0])\n",
    "labels.append(-1)\n",
    "data.append([-1.0, 1.1])\n",
    "labels.append(-1)\n",
    "data.append([2.1, -3])\n",
    "labels.append(1)\n",
    "\n",
    "predicted_label = 0\n",
    "num_correct = 0\n",
    "\n",
    "a = 1\n",
    "b = -2\n",
    "c = -1 # initial parameters\n",
    "\n",
    "for i in range(len(data)):\n",
    "    x = data[i][0]\n",
    "    y = data[i][1]\n",
    "    true_label=labels[i]\n",
    "    score = a*x + b*y + c\n",
    "    if score > 0:\n",
    "        predicted_label = 1\n",
    "    if score < 0:\n",
    "        predicted_label = -1\n",
    "    if predicted_label == true_label:\n",
    "        num_correct=num_correct+1\n",
    "\n",
    "print (num_correct)\n",
    "\n",
    "for iterator in range(400):\n",
    "    # pick a random data point\n",
    "    i = math.floor(random.random() * len(data))\n",
    "    x = data[i][0]\n",
    "    y = data[i][1]\n",
    "    label = labels[i]\n",
    "    #compute pull\n",
    "    score = a*x + b*y + c\n",
    "    pull = 0.0\n",
    "    if label == 1 and score < 1:\n",
    "        pull = 1\n",
    "    if label == -1 and score > -1:\n",
    "        pull = -1\n",
    "    # compute gradient and update parameters\n",
    "    step_size = 0.01\n",
    "    a += step_size * (x * pull - a) # -a is from the regularization\n",
    "    b += step_size * (y * pull - b) # -b is from the regularization\n",
    "    c += step_size * (1 * pull)\n",
    "    #print (score)\n",
    "\n",
    "num_correct = 0    \n",
    "    \n",
    "for i in range(len(data)):\n",
    "    x = data[i][0]\n",
    "    y = data[i][1]\n",
    "    true_label=labels[i]\n",
    "    score = a*x + b*y + c\n",
    "    if score > 0:\n",
    "        predicted_label = 1\n",
    "    if score < 0:\n",
    "        predicted_label = -1\n",
    "    if predicted_label == true_label:\n",
    "        num_correct=num_correct+1\n",
    "\n",
    "print (num_correct)"
   ]
  },
  {
   "cell_type": "code",
   "execution_count": null,
   "metadata": {},
   "outputs": [],
   "source": []
  }
 ],
 "metadata": {
  "kernelspec": {
   "display_name": "Python 3",
   "language": "python",
   "name": "python3"
  },
  "language_info": {
   "codemirror_mode": {
    "name": "ipython",
    "version": 3
   },
   "file_extension": ".py",
   "mimetype": "text/x-python",
   "name": "python",
   "nbconvert_exporter": "python",
   "pygments_lexer": "ipython3",
   "version": "3.7.4"
  }
 },
 "nbformat": 4,
 "nbformat_minor": 2
}
